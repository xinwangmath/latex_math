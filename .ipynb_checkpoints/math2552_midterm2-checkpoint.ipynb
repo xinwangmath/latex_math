{
 "cells": [
  {
   "cell_type": "markdown",
   "metadata": {},
   "source": [
    "# 4"
   ]
  },
  {
   "cell_type": "markdown",
   "metadata": {},
   "source": [
    "(a) We first write the system of differential equations, we have: \n",
    "$$\n",
    "x_1' = -\\frac{x_1}{100} \\cdot 5\n",
    "$$\n",
    "$$\n",
    "x_2' = \\frac{x_1}{100} \\cdot 5 -\\frac{x_2}{100} \\cdot 5\n",
    "$$\n",
    "that is \n",
    "$$\n",
    "x_1' = -\\frac{1}{20} x_1 \\\\\n",
    "x_2' = \\frac{1}{20} x_1 - \\frac{1}{20} x_2\n",
    "$$\n",
    "Initial conditions are\n",
    "$$\n",
    "x_1(0) = 10\\\\\n",
    "x_2(0) = 0\n",
    "$$\n",
    "To solve this equation, we can either solve the eigenvalues (in this case, they are repeated eigenvalues), and then solve for eigenvector and generalized eigenvector; or, we can first solve the first equation (note this is an equation about $x_1$ only, then plug the solution into the second equation to solve for $x_2$. And use the initial condition to figure out the constants. Either way, we will be able to get: (here lb is the unit)\n",
    "$$\n",
    "x_1(t) = 10 e^{-t/20} lb \\\\\n",
    "x_2(t) = \\frac{1}{2} t e^{-t/20} lb\n",
    "$$\n",
    "\n",
    "(b) To find maximum $x_2$, we take a derivative on $x_2(t)$ and get\n",
    "$$\n",
    "x_2'(t) = \\frac{1}{20}\\left( 10 e^{-t/20} - \\frac{1}{2} t e^{-t/20} \\right)\n",
    "$$\n",
    "Set it equal to $0$, we have\n",
    "$$\n",
    "10 e^{-t/20} = \\frac{1}{2} t e^{-t/20} \\Rightarrow t = 20\n",
    "$$\n",
    "So $x_2$ achieves an extremum at $t = 20$, it is easy to verifty this is a maximum, so \n",
    "$$\n",
    "\\max x_2 = x_2(20) = \\frac{1}{2} \\cdot 20 \\cdot e^{-1} = \\frac{10}{e} lb\n",
    "$$\n"
   ]
  },
  {
   "cell_type": "code",
   "execution_count": null,
   "metadata": {
    "collapsed": true
   },
   "outputs": [],
   "source": []
  }
 ],
 "metadata": {
  "kernelspec": {
   "display_name": "Python 2",
   "language": "python",
   "name": "python2"
  },
  "language_info": {
   "codemirror_mode": {
    "name": "ipython",
    "version": 2
   },
   "file_extension": ".py",
   "mimetype": "text/x-python",
   "name": "python",
   "nbconvert_exporter": "python",
   "pygments_lexer": "ipython2",
   "version": "2.7.11"
  }
 },
 "nbformat": 4,
 "nbformat_minor": 0
}
