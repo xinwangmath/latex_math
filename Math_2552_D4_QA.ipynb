{
 "cells": [
  {
   "cell_type": "markdown",
   "metadata": {},
   "source": [
    "# Math 2552 Fall 2016 Question & Answer"
   ]
  },
  {
   "cell_type": "markdown",
   "metadata": {},
   "source": [
    "##  Find $e^{A t}$ when $A$ has all repeated eigenvalues\n",
    "\n",
    "Recall we have the following property: \n",
    "\n",
    "If $A B = B A$, then $ e^{( A + B) t} = e^{At} e^{B t}$. \n",
    "\n",
    "Using this property, we can solve the following problem"
   ]
  },
  {
   "cell_type": "markdown",
   "metadata": {},
   "source": [
    "Find $e^{A t}$ for \n",
    "$$\n",
    "A = \\begin{pmatrix}\n",
    "5 & -3 & -2 \\\\\n",
    "8 & -5 & -4 \\\\\n",
    "-4 & 3 & 3 \n",
    "\\end{pmatrix}\n",
    "$$"
   ]
  },
  {
   "cell_type": "markdown",
   "metadata": {},
   "source": [
    "Solution: \n",
    "\n",
    "We first find the eigenvalues, \n",
    "$$\n",
    "\\det(A - \\lambda I) = - \\lambda^3 + 3 \\lambda^2 - 3 \\lambda + 1 = 0 \n",
    "$$"
   ]
  },
  {
   "cell_type": "markdown",
   "metadata": {},
   "source": [
    "Method-1 to solve this equation, by observation, we have \n",
    "$$\n",
    "- \\lambda^3 + 3 \\lambda^2 - 3 \\lambda + 1 = - ( \\lambda^3 - 3 \\lambda^2 + 3 \\lambda  - 1) = - (\\lambda - 1)^3 \n",
    "$$\n",
    "so \n",
    "$$\n",
    "\\lambda_1 = \\lambda_2 = \\lambda_3 = 1\n",
    "$$\n",
    "\n",
    "Method-2 to solve this equation, we use the *Rational Roots Theorem*: for equation \n",
    "$$\n",
    "a_n x^n + a_{n-1} x^{n-1} + ... + a_1 x + a_0 = 0\n",
    "$$\n",
    "where $a_0, a_1, ..., a_n$ are all integers, all the rational roots of this equation can be written as $\\frac{p}{q}$, where $p$ is a factor of $a_0$ and $q$ is a factor of $a_n$. See [https://en.wikipedia.org/wiki/Rational_root_theorem]. \n",
    "\n",
    "For the equation $- \\lambda^3 + 3 \\lambda^2 - 3 \\lambda + 1 = 0$, we see the only factors of $1$ is $\\pm 1$, and the only factor of $-1$ is $\\pm 1$, so all the rational roots of this equation has to be $\\frac{\\pm 1}{\\pm 1} = \\pm 1$. Plug $1$ and $-1$ into the equation, we see $-1$ is not a root and $1$ is a root. So the equation can be factored into \n",
    "$- \\lambda^3 + 3 \\lambda^2 - 3 \\lambda + 1 = (\\lambda - 1) ( a \\lambda^2 + b \\lambda + c)$, by comparing coefficients, we can find $a = -1, b = 2, c = -1$, so $- \\lambda^3 + 3 \\lambda^2 - 3 \\lambda + 1 = (\\lambda - 1) ( - \\lambda^2 + 2 \\lambda  -1) = - (\\lambda - 1)^3$. Note this is also how generally we solve cubic equations (of course, if the equation doesn't have a rational root, then we are out of luck). "
   ]
  },
  {
   "cell_type": "markdown",
   "metadata": {},
   "source": [
    "We now know $A$ has 3 repeated eigenvalues $1$. Let's write $A$ as \n",
    "$$\n",
    "A = \\lambda I + B = I + \\begin{pmatrix}\n",
    "-4 & -3 & -2 \\\\\n",
    "8 & -6 & -4 \\\\\n",
    "-4 & 3 & 2 \n",
    "\\end{pmatrix}\n",
    "$$\n",
    "\n",
    "Note $(\\lambda I) B = B (\\lambda I)$, so $e^{A t} = e^{ \\lambda I t} e^{B t}$"
   ]
  },
  {
   "cell_type": "markdown",
   "metadata": {},
   "source": [
    "Compute each term: $e^{\\lambda I t} = e^{\\lambda t} I$. \n",
    "\n",
    "For $e^{B t}$, we use a special property of the matrix $A$, which is only true when $A$ has all repeated eigenvalues. This special property of $A$ is: if $A$ has all repeated eigenvalues, let $B = A - \\lambda I$, then $B$ is a *nilpotent* matrix. A nilpotent matrix is a matrix that equals $0$ when we multply it by itself for enough number of times. For our current $B$ matrix, we have \n",
    "$$\n",
    "B^2 = B B = 0\n",
    "$$\n",
    "Then we use the Taylor series expansion of $e^{Bt}$ to compute it: \n",
    "$$\n",
    "e^{Bt} = I + t B + \\frac{1}{2!} t^2 B^2 + \\frac{1}{3!} t^3 B^3 + ...\n",
    "$$\n",
    "Note if $B$ is not nilponent, then we will need to compute infinite number of terms in this expansion, so we cannot use this expansion to find $e^{Bt}$. But when $B$ is nilpotent, we just need to compute finite number of terms, for example, for the current $B$, we have \n",
    "$$\n",
    "e^{Bt} = I + t B + 0 + 0 + ... = I + t B \n",
    "$$"
   ]
  },
  {
   "cell_type": "markdown",
   "metadata": {},
   "source": [
    "Combining the two terms, we have: \n",
    "$$\n",
    "e^{A t} = e^t e^{B t} = e^t ( I + t B) = e^t \\begin{pmatrix}\n",
    "1 -4t & -3t & -2t \\\\\n",
    "8t & 1-6t & -4t \\\\\n",
    "-4t & 3t & 1 + 2t \n",
    "\\end{pmatrix}\n",
    "$$"
   ]
  },
  {
   "cell_type": "markdown",
   "metadata": {},
   "source": [
    "We emphasize again that the above method only works well when $A$ has all repeated eigenvalues. For other cases, this may not be an easy way to find $e^{A t}$. "
   ]
  }
 ],
 "metadata": {
  "kernelspec": {
   "display_name": "Python 2",
   "language": "python",
   "name": "python2"
  },
  "language_info": {
   "codemirror_mode": {
    "name": "ipython",
    "version": 2
   },
   "file_extension": ".py",
   "mimetype": "text/x-python",
   "name": "python",
   "nbconvert_exporter": "python",
   "pygments_lexer": "ipython2",
   "version": "2.7.12"
  }
 },
 "nbformat": 4,
 "nbformat_minor": 0
}
