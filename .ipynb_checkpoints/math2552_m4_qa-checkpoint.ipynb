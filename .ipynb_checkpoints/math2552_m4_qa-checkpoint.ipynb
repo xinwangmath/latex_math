{
 "cells": [
  {
   "cell_type": "markdown",
   "metadata": {},
   "source": [
    "# 2.3, Problem 2.3"
   ]
  },
  {
   "cell_type": "markdown",
   "metadata": {},
   "source": [
    "We first set up the equation for the first phase. Let $Q$ be the amount of salt in the tank. The flow-in rate of salt is 4 gal/min $\\times$ (1/4) lb/gal = 1 lb /min. The flow-out rate of salt is 4 gal/min $\\times$ (Q/160) lb/gal = Q/40 lb/min. So the differential equation for $Q$ is \n",
    "$$\n",
    "\\frac{d Q}{d t} = 1 - \\frac{Q}{40}\n",
    "$$\n",
    "and initial condition is\n",
    "$$\n",
    "Q(0) = 0\n",
    "$$"
   ]
  },
  {
   "cell_type": "markdown",
   "metadata": {},
   "source": [
    "We then solve this equation, first rewrite it as \n",
    "$$\n",
    "\\frac{d Q}{d t} + \\frac{Q}{40} = 1\n",
    "$$\n",
    "So we can use the method of integrating factors. The integrating factor is \n",
    "$$\n",
    "\\mu(t) = e ^{\\int (1/40) dt} = e^{t/40}\n",
    "$$\n",
    "Multiply both sides by $\\mu(t)$ and integrate, we get\n",
    "$$\n",
    "e^{t/40} Q = \\int e^{t/40} dt = 40 e^{t/40} + C\n",
    "$$\n",
    "$$\n",
    "\\Rightarrow Q(t) = C e^{-t/40} + 40\n",
    "$$\n",
    "Plug in the initial condition, we get\n",
    "$$\n",
    "C + 40 = 0 \\Rightarrow C = -40\n",
    "$$\n",
    "So \n",
    "$$\n",
    "Q(t) = 40 ( 1 - e^{-t/40} )\n",
    "$$"
   ]
  },
  {
   "cell_type": "markdown",
   "metadata": {},
   "source": [
    "Note the above solution is valid for $0 \\leq t \\leq 8$, so at the end of the first $8$ mins, the amount of salt in the tank is $Q(8) = 40( 1 - e^{-1/5} )$. "
   ]
  },
  {
   "cell_type": "markdown",
   "metadata": {},
   "source": [
    "Starting at this time, only fresh water is being added. So the flow-in rate becomes $0$. And the equation becomes: \n",
    "$$\n",
    "\\frac{d Q}{d t} = 0 - 6 \\times \\frac{Q}{160} = - \\frac{3 Q}{80}\n",
    "$$\n",
    "Let's also reset the time, so the new initial condition for this equation is: \n",
    "$$\n",
    "Q(0) = 40( 1 - e^{-1/5} )\n",
    "$$\n",
    "We can solve this equation and get the solution: \n",
    "$$\n",
    "Q(t) = 40( 1 - e^{-1/5} ) e^{-3t/80}\n",
    "$$"
   ]
  },
  {
   "cell_type": "markdown",
   "metadata": {},
   "source": [
    "At the end of another 8 mins, the amount of salt in the tank is \n",
    "$$\n",
    "Q(8) = 40( 1 - e^{-1/5} ) e^{-3/10} \\approx 5.37\n",
    "$$\n",
    "and the unit is lb. "
   ]
  }
 ],
 "metadata": {
  "kernelspec": {
   "display_name": "Python 2",
   "language": "python",
   "name": "python2"
  },
  "language_info": {
   "codemirror_mode": {
    "name": "ipython",
    "version": 2
   },
   "file_extension": ".py",
   "mimetype": "text/x-python",
   "name": "python",
   "nbconvert_exporter": "python",
   "pygments_lexer": "ipython2",
   "version": "2.7.11"
  }
 },
 "nbformat": 4,
 "nbformat_minor": 0
}
