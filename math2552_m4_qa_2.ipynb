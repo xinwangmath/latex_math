{
 "cells": [
  {
   "cell_type": "markdown",
   "metadata": {},
   "source": [
    "Let's find eigenvectors of \n",
    "$$\n",
    "A = \\begin{pmatrix}\n",
    "2 & -5\\\\\n",
    "4 & -2\n",
    "\\end{pmatrix}\n",
    "$$\n",
    "given that we already known the first eigenvalue is $\\lambda_1 = 4 i$. "
   ]
  },
  {
   "cell_type": "markdown",
   "metadata": {},
   "source": [
    "The equation we need to solve is\n",
    "$$\n",
    "\\begin{pmatrix}\n",
    "2 - 4 i & -5 \\\\\n",
    "4 & -2 - 4 i\n",
    "\\end{pmatrix} \\begin{pmatrix}\n",
    "u_1 \\\\\n",
    "u_2 \n",
    "\\end{pmatrix} = \n",
    "\\begin{pmatrix}\n",
    "0 \\\\\n",
    "0\n",
    "\\end{pmatrix}\n",
    "$$"
   ]
  },
  {
   "cell_type": "markdown",
   "metadata": {},
   "source": [
    "If we solve the equation on the top row, we are solving: \n",
    "$$\n",
    "(2 - 4 i) u_1 - 5 u_2 = 0\n",
    "$$\n",
    "so \n",
    "$$\n",
    "u_1 = \\frac{ 5 u_2 }{2 - 4 i}\n",
    "$$\n",
    "To make $u_1$ simple, let's pick $u_2 = 2 - 4i$, then $u_1 = 5$. And\n",
    "$$\n",
    "v_1 = \\begin{pmatrix}\n",
    "5 \\\\\n",
    "2 - 4 i\n",
    "\\end{pmatrix}\n",
    "$$"
   ]
  },
  {
   "cell_type": "markdown",
   "metadata": {},
   "source": [
    "Alternatively, we can solve the equation on the bottom row, then we are solving\n",
    "$$\n",
    "4 u_1 - (2 + 4 i) u_2 = 0 \n",
    "$$\n",
    "so \n",
    "$$\n",
    "u_1 = \\frac{ (2 + 4 i) u_2 }{4} \n",
    "$$\n",
    "To make $u_1$ simple, let's pick $u_2 = 4$, then $u_1 = 2 + 4i$, and \n",
    "$$\n",
    "v_1 = \\begin{pmatrix}\n",
    "2 + 4 i \\\\\n",
    "4\n",
    "\\end{pmatrix}\n",
    "$$"
   ]
  },
  {
   "cell_type": "markdown",
   "metadata": {},
   "source": [
    "These two solutions look very different. But we can verify that they are the multiples of each other: take the quoitent of the first component and the second component and compare the two components: \n",
    "\n",
    "If we solve the top row, the quotient is \n",
    "$$\n",
    "\\frac{5}{2 - 4i} = \\frac{5 ( 2 + 4 i)}{(2 - 4 i) (2 + 4 i)} = \\frac{5 ( 2 + 4 i)} {4 + 16} = \\frac{2 + 4 i}{4}\n",
    "$$\n",
    "\n",
    "If we solve the second row, the quotient is \n",
    "$$\n",
    "\\frac{2 + 4 i}{4}\n",
    "$$\n",
    "\n",
    "The two quotients are the same, so we know the two solutions are multiples of each other. "
   ]
  },
  {
   "cell_type": "markdown",
   "metadata": {},
   "source": [
    "If we solved the two equations and get two different solutions whose quotients are different, then possible reasons include: \n",
    "\n",
    "1. We got the wrong eigenvalue. When this happens, the two solutions will be different. \n",
    "\n",
    "2. We made a mistake when we solve the eigenvector equations. "
   ]
  },
  {
   "cell_type": "code",
   "execution_count": null,
   "metadata": {
    "collapsed": true
   },
   "outputs": [],
   "source": []
  },
  {
   "cell_type": "code",
   "execution_count": null,
   "metadata": {
    "collapsed": true
   },
   "outputs": [],
   "source": []
  }
 ],
 "metadata": {
  "kernelspec": {
   "display_name": "Python 2",
   "language": "python",
   "name": "python2"
  },
  "language_info": {
   "codemirror_mode": {
    "name": "ipython",
    "version": 2
   },
   "file_extension": ".py",
   "mimetype": "text/x-python",
   "name": "python",
   "nbconvert_exporter": "python",
   "pygments_lexer": "ipython2",
   "version": "2.7.11"
  }
 },
 "nbformat": 4,
 "nbformat_minor": 0
}
