{
 "cells": [
  {
   "cell_type": "markdown",
   "metadata": {},
   "source": [
    "# Math 2252 (Differential equations) F4 and K4 Q&A"
   ]
  },
  {
   "cell_type": "markdown",
   "metadata": {},
   "source": [
    "Q. How to solve Practice Midterm 2 Problem 4 ?"
   ]
  },
  {
   "cell_type": "markdown",
   "metadata": {},
   "source": [
    "A. See https://nbviewer.jupyter.org/github/xinwangmath/latex_math/blob/master/math2552_midterm2.ipynb"
   ]
  },
  {
   "cell_type": "markdown",
   "metadata": {},
   "source": [
    "Q. How to solve Midterm 2 Problem 4 ?"
   ]
  },
  {
   "cell_type": "markdown",
   "metadata": {},
   "source": [
    "A. See https://nbviewer.jupyter.org/github/xinwangmath/latex_math/blob/master/midterm%202%20problem%204%20solution.ipynb"
   ]
  },
  {
   "cell_type": "markdown",
   "metadata": {},
   "source": [
    "Q. For repeated eigenvalues problems, when do we simply multiply the solution by $t$ and when is the generalized eigenvector necessary? "
   ]
  },
  {
   "cell_type": "markdown",
   "metadata": {},
   "source": [
    "A. For a second order equation, when it has repeated roots for the characteristic equation, we simply muliply the first solution by $t$ to obtain the second linear independent solution. For example, for\n",
    "$$\n",
    "y'' - 2 y' + y = 0\n",
    "$$\n",
    "we have $\\lambda_1 = \\lambda_2 = 1$, so $y(t) = c_1 e^t + c_2 t e^t$. \n",
    "\n",
    "For a system of two linear first order equations, we actually have two cases when the eigenvalues are repeated. \n",
    "\n",
    "Case 1. Eigenvalues are repeated, but we can find two linearly independent eigenvector $v_1$ and $v_2$. In this case, we don't need to solve for generalized eigenvector, and we have: \n",
    "$$\n",
    "\\vec{x}(t) = c_1 e^{\\lambda t} \\vec{v}_1 + c_2 e^{\\lambda t} \\vec{v}_2\n",
    "$$\n",
    "One such example is: \n",
    "$$\n",
    "\\frac{d \\vec{x}}{d t} = \\begin{pmatrix} 1 & 0 \\\\ 0 & 1 \\end{pmatrix} \\vec{x} \n",
    "$$\n",
    "\n",
    "Case 2. Eigenvalues are repeated, and we cannot find two linearly independent eigenvectors. In this case, we need to solve for generalized eigenvector $\\vec{w}$, and we have: \n",
    "$$\n",
    "\\vec{x}(t) = c_1 e^{\\lambda t} \\vec{v} + c_2 e^{\\lambda t} \\left( \\vec{w} + t \\vec{v} \\right)\n",
    "$$\n",
    "One such example is: \n",
    "$$\n",
    "\\frac{d \\vec{x}}{d t} = \\begin{pmatrix} 2 & 1 \\\\ 0 & 2 \\end{pmatrix} \\vec{x} \n",
    "$$\n",
    "\n",
    "For a system of more than two linear equations (for example, when it has $3$ linear equations), when it has repeated eigenvalues, we use the formula that we learned in Chpater 6 to solve it (the formula is a bit long, so I will just refer to the textbook for this). "
   ]
  },
  {
   "cell_type": "code",
   "execution_count": null,
   "metadata": {
    "collapsed": true
   },
   "outputs": [],
   "source": []
  }
 ],
 "metadata": {
  "kernelspec": {
   "display_name": "Python 2",
   "language": "python",
   "name": "python2"
  },
  "language_info": {
   "codemirror_mode": {
    "name": "ipython",
    "version": 2
   },
   "file_extension": ".py",
   "mimetype": "text/x-python",
   "name": "python",
   "nbconvert_exporter": "python",
   "pygments_lexer": "ipython2",
   "version": "2.7.11"
  }
 },
 "nbformat": 4,
 "nbformat_minor": 0
}
